{
 "cells": [
  {
   "cell_type": "code",
   "execution_count": 2,
   "metadata": {
    "hide_input": false
   },
   "outputs": [],
   "source": [
    "import socket\n",
    "import pickle\n",
    "from amoba import gomoku"
   ]
  },
  {
   "cell_type": "code",
   "execution_count": 3,
   "metadata": {
    "scrolled": false
   },
   "outputs": [
    {
     "data": {
      "application/vnd.jupyter.widget-view+json": {
       "model_id": "a8c2dad01443409f8c800217ccbea95f",
       "version_major": 2,
       "version_minor": 0
      },
      "text/plain": [
       "Figure(axes=[Axis(grid_color='black', scale=LinearScale(max=15.5, min=-1.5), tick_style={'font-size': 0}, tick…"
      ]
     },
     "metadata": {},
     "output_type": "display_data"
    }
   ],
   "source": [
    "G=gomoku()\n",
    "G.fig"
   ]
  },
  {
   "cell_type": "code",
   "execution_count": 4,
   "metadata": {},
   "outputs": [],
   "source": [
    "G.reset_table()\n",
    "# Create a TCP/IP socket\n",
    "sock = socket.socket(socket.AF_INET, socket.SOCK_STREAM)\n",
    "# Bind the socket to the port\n",
    "server_address = ('localhost', 10000)\n",
    "sock.bind(server_address)\n",
    "# Listen for incoming connections\n",
    "sock.listen(1)"
   ]
  },
  {
   "cell_type": "code",
   "execution_count": 5,
   "metadata": {},
   "outputs": [],
   "source": [
    "last_step = None\n",
    "while not(G.check_win()):\n",
    "    # Wait for a connection\n",
    "    connection, client_address = sock.accept()\n",
    "    try:\n",
    "        # Receive the data in small chunks and retransmit it\n",
    "        while True:\n",
    "            data = connection.recv(8192)\n",
    "            if data:\n",
    "                data = pickle.loads(data)\n",
    "                succesful_update = G.update_table(pos = data['pos'],player=data['player'])  \n",
    "                \n",
    "                if succesful_update:\n",
    "                    last_step = data[\"pos\"]\n",
    "                connection.sendall(pickle.dumps(dict(A=G.A,\n",
    "                                                     who_is_next=G.who_is_next,\n",
    "                                                     end_of_game=G.check_win(),\n",
    "                                                     succesful_update = succesful_update,\n",
    "                                                     last_step_taken = last_step)))\n",
    "               \n",
    "            else:\n",
    "                break\n",
    "            \n",
    "    except (KeyboardInterrupt, SystemExit):\n",
    "        \n",
    "        raise\n",
    "connection.close()\n",
    "sock.close()"
   ]
  },
  {
   "cell_type": "code",
   "execution_count": 14,
   "metadata": {},
   "outputs": [],
   "source": [
    "connection.close()\n",
    "sock.close()"
   ]
  },
  {
   "cell_type": "code",
   "execution_count": 6,
   "metadata": {},
   "outputs": [
    {
     "data": {
      "text/plain": [
       "[0, 5]"
      ]
     },
     "execution_count": 6,
     "metadata": {},
     "output_type": "execute_result"
    }
   ],
   "source": [
    "last_step"
   ]
  },
  {
   "cell_type": "code",
   "execution_count": null,
   "metadata": {},
   "outputs": [],
   "source": []
  }
 ],
 "metadata": {
  "hide_input": true,
  "kernelspec": {
   "display_name": "Python 3",
   "language": "python",
   "name": "python3"
  }
 },
 "nbformat": 4,
 "nbformat_minor": 2
}
