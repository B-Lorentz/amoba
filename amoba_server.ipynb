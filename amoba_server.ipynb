{
 "cells": [
  {
   "cell_type": "code",
   "execution_count": 1,
   "metadata": {
    "hide_input": false
   },
   "outputs": [],
   "source": [
    "import socket\n",
    "import pickle\n",
    "from amoba import gomoku"
   ]
  },
  {
   "cell_type": "code",
   "execution_count": 2,
   "metadata": {},
   "outputs": [
    {
     "data": {
      "application/vnd.jupyter.widget-view+json": {
       "model_id": "cf6cf01b0cf5464eba14db08d1f84691",
       "version_major": 2,
       "version_minor": 0
      },
      "text/plain": [
       "Figure(axes=[Axis(grid_color='black', scale=LinearScale(max=15.5, min=-1.5), tick_style={'font-size': 0}, tick…"
      ]
     },
     "metadata": {},
     "output_type": "display_data"
    }
   ],
   "source": [
    "G=gomoku()\n",
    "G.fig"
   ]
  },
  {
   "cell_type": "code",
   "execution_count": 3,
   "metadata": {},
   "outputs": [],
   "source": [
    "G.reset_table()\n",
    "# Create a TCP/IP socket\n",
    "sock = socket.socket(socket.AF_INET, socket.SOCK_STREAM)\n",
    "# Bind the socket to the port\n",
    "server_address = ('localhost', 10000)\n",
    "sock.bind(server_address)\n",
    "# Listen for incoming connections\n",
    "sock.listen(1)"
   ]
  },
  {
   "cell_type": "code",
   "execution_count": 4,
   "metadata": {},
   "outputs": [],
   "source": [
    "while not(G.check_win()):\n",
    "    # Wait for a connection\n",
    "    connection, client_address = sock.accept()\n",
    "    try:\n",
    "        # Receive the data in small chunks and retransmit it\n",
    "        while True:\n",
    "            data = connection.recv(8192)\n",
    "            if data:\n",
    "                data = pickle.loads(data)\n",
    "                succesful_update = G.update_table(pos = data['pos'],player=data['player'])                   \n",
    "                connection.sendall(pickle.dumps(dict(A=G.A,\n",
    "                                                     who_is_next=G.who_is_next,\n",
    "                                                     end_of_game=G.check_win(),\n",
    "                                                     succesful_update = succesful_update)))\n",
    "            else:\n",
    "                break\n",
    "            \n",
    "    except (KeyboardInterrupt, SystemExit):\n",
    "        \n",
    "        raise\n",
    "connection.close()\n",
    "sock.close()"
   ]
  }
 ],
 "metadata": {
  "hide_input": true,
  "kernelspec": {
   "display_name": "Python 3",
   "language": "python",
   "name": "python3"
  },
  "language_info": {
   "codemirror_mode": {
    "name": "ipython",
    "version": 3
   },
   "file_extension": ".py",
   "mimetype": "text/x-python",
   "name": "python",
   "nbconvert_exporter": "python",
   "pygments_lexer": "ipython3",
   "version": "3.6.8"
  }
 },
 "nbformat": 4,
 "nbformat_minor": 2
}
